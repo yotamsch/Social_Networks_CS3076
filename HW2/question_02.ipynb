{
 "cells": [
  {
   "cell_type": "code",
   "execution_count": 2,
   "metadata": {},
   "outputs": [
    {
     "name": "stdout",
     "output_type": "stream",
     "text": [
      "The autoreload extension is already loaded. To reload it, use:\n",
      "  %reload_ext autoreload\n"
     ]
    }
   ],
   "source": [
    "# reloading for modules\n",
    "%load_ext autoreload\n",
    "%autoreload 2"
   ]
  },
  {
   "cell_type": "code",
   "execution_count": 3,
   "metadata": {},
   "outputs": [],
   "source": [
    "# ignore some unwanted warnings\n",
    "import warnings\n",
    "warnings.filterwarnings('ignore')"
   ]
  },
  {
   "cell_type": "code",
   "execution_count": 5,
   "metadata": {},
   "outputs": [],
   "source": [
    "# import the needed modules\n",
    "import networkx as nx\n",
    "import numpy as np\n",
    "import matplotlib.pyplot as plt\n",
    "import random\n",
    "import sys"
   ]
  },
  {
   "cell_type": "code",
   "execution_count": 202,
   "metadata": {},
   "outputs": [],
   "source": [
    "def k_clique_communities(G, k=3):\n",
    "    # NOTE: a couple of stages could be combined, \n",
    "    #       but were left as is for ease of understanding\n",
    "    \n",
    "    # 1: find all maximal cliques\n",
    "    cliques = list(nx.find_cliques(G))\n",
    "\n",
    "    # 2: create clique overlap matrix\n",
    "    num_of_cliques = len(cliques)\n",
    "    matrix = np.zeros((num_of_cliques,num_of_cliques))\n",
    "    for i in range(0,num_of_cliques):\n",
    "        for j in range(0,num_of_cliques):\n",
    "            for v in cliques[i]:\n",
    "                if v in cliques[j]:\n",
    "                    matrix[i,j] += 1\n",
    "    \n",
    "    # 3: threshold matrix with k\n",
    "    for i in range(0,num_of_cliques):\n",
    "        for j in range(0,num_of_cliques):\n",
    "            if (matrix[i,j] < k-1) or (i == j and matrix[i,j] < k):\n",
    "                matrix[i,j] = 0\n",
    "            else:\n",
    "                matrix[i,j] = 1\n",
    "    \n",
    "    # 4: combine connected components, generate communities\n",
    "    communities = list()\n",
    "    G_hier = nx.Graph()\n",
    "    for i in range(0,num_of_cliques):\n",
    "        for j in range(0,i+1):\n",
    "            if matrix[i,j] == 1:\n",
    "                G_hier.add_edge(i,j)\n",
    "    for comm_idx in nx.connected_components(G_hier):\n",
    "        comm = set()\n",
    "        for v in comm_idx:\n",
    "            comm |= set(cliques[v])\n",
    "        communities.append(comm)\n",
    "    \n",
    "    return communities"
   ]
  },
  {
   "cell_type": "code",
   "execution_count": 206,
   "metadata": {},
   "outputs": [
    {
     "name": "stdout",
     "output_type": "stream",
     "text": [
      "Implementation is correct.\n"
     ]
    }
   ],
   "source": [
    "from networkx.algorithms.community import k_clique_communities as nx_k_clique_communities\n",
    "\n",
    "# Graph G\n",
    "G = nx.read_edgelist(\"communities.txt\")\n",
    "\n",
    "# our algorithm implementation\n",
    "user_comm = k_clique_communities(G,5)\n",
    "# networkx implementation for validation\n",
    "nx_comm = list(nx_k_clique_communities(G,5))\n",
    "\n",
    "# verify the correctness\n",
    "is_ok = True\n",
    "for s in user_comm:\n",
    "    if s not in nx_comm:\n",
    "        is_ok = False\n",
    "for s in nx_comm:\n",
    "    if s not in user_comm:\n",
    "        is_ok = False\n",
    "if not is_ok:\n",
    "    print(\"A difference exists.\")\n",
    "else:\n",
    "    print(\"Implementation is correct.\")"
   ]
  }
 ],
 "metadata": {
  "kernelspec": {
   "display_name": "Python [conda env:social_net]",
   "language": "python",
   "name": "conda-env-social_net-py"
  },
  "language_info": {
   "codemirror_mode": {
    "name": "ipython",
    "version": 3
   },
   "file_extension": ".py",
   "mimetype": "text/x-python",
   "name": "python",
   "nbconvert_exporter": "python",
   "pygments_lexer": "ipython3",
   "version": "3.6.5"
  }
 },
 "nbformat": 4,
 "nbformat_minor": 2
}
