{
 "cells": [
  {
   "cell_type": "code",
   "execution_count": 2,
   "metadata": {},
   "outputs": [
    {
     "name": "stdout",
     "output_type": "stream",
     "text": [
      "The autoreload extension is already loaded. To reload it, use:\n",
      "  %reload_ext autoreload\n"
     ]
    }
   ],
   "source": [
    "# reloading for modules\n",
    "%load_ext autoreload\n",
    "%autoreload 2"
   ]
  },
  {
   "cell_type": "code",
   "execution_count": 3,
   "metadata": {},
   "outputs": [],
   "source": [
    "# ignore some unwanted warnings\n",
    "import warnings\n",
    "warnings.filterwarnings('ignore')"
   ]
  },
  {
   "cell_type": "code",
   "execution_count": 5,
   "metadata": {},
   "outputs": [],
   "source": [
    "# import the needed modules\n",
    "import networkx as nx\n",
    "import numpy as np\n",
    "import matplotlib.pyplot as plt\n",
    "import random\n",
    "import sys"
   ]
  },
  {
   "cell_type": "code",
   "execution_count": 231,
   "metadata": {},
   "outputs": [],
   "source": [
    "def k_clique_communities(G, k=3):\n",
    "    # NOTE: a couple of stages could be combined, \n",
    "    #       but were left as is for ease of understanding\n",
    "    \n",
    "    # 1: find all maximal cliques\n",
    "    cliques = list(nx.find_cliques(G))\n",
    "\n",
    "    # 2: create clique overlap matrix\n",
    "    num_of_cliques = len(cliques)\n",
    "    matrix = np.zeros((num_of_cliques,num_of_cliques))\n",
    "    for i in range(0,num_of_cliques):\n",
    "        for j in range(0,num_of_cliques):\n",
    "            for v in cliques[i]:\n",
    "                if v in cliques[j]:\n",
    "                    matrix[i,j] += 1\n",
    "    \n",
    "    # 3: threshold matrix with k\n",
    "    for i in range(0,num_of_cliques):\n",
    "        for j in range(0,num_of_cliques):\n",
    "            if (matrix[i,j] < k-1) or (i == j and matrix[i,j] < k):\n",
    "                matrix[i,j] = 0\n",
    "            else:\n",
    "                matrix[i,j] = 1\n",
    "    \n",
    "    # 4: combine connected components, generate communities\n",
    "    communities = list()\n",
    "    G_hier = nx.Graph()\n",
    "    for i in range(0,num_of_cliques):\n",
    "        for j in range(0,i+1):\n",
    "            if matrix[i,j] == 1:\n",
    "                G_hier.add_edge(i,j)\n",
    "    for comm_idx in nx.connected_components(G_hier):\n",
    "        comm = set()\n",
    "        for v in comm_idx:\n",
    "            comm |= set(cliques[v])\n",
    "        communities.append(comm)\n",
    "    \n",
    "    return communities"
   ]
  },
  {
   "cell_type": "code",
   "execution_count": 233,
   "metadata": {},
   "outputs": [
    {
     "name": "stdout",
     "output_type": "stream",
     "text": [
      "Implementation is correct.\n",
      "Communities:\n",
      "\t#1 : {'275', '328', '78', '181', '306', '4', '218', '273', '152', '195'}\n",
      "\t#2 : {'75', '211', '82', '105', '199', '271', '223', '150', '246', '346', '126', '332', '236', '252', '324', '64', '60', '142', '94', '276', '196', '331', '302', '300', '338', '277', '59', '80', '197', '169', '340', '188', '29', '57', '303', '317', '146', '274', '139', '38', '265', '132', '221', '77', '308', '92', '257', '16', '178', '314', '229', '266', '172', '121', '170', '128', '168', '21', '298', '322', '10', '249', '290', '53', '158', '5', '123', '189', '330', '291', '165', '185', '63', '222', '130', '318', '224', '186', '26', '313', '203', '13', '67', '62', '295', '106', '9', '136', '200', '184', '248', '40', '161', '65', '212', '272', '171', '329', '250', '304', '119', '242', '118', '239', '156', '79', '163', '180', '281', '238', '133', '320', '141', '268', '48', '73', '22', '194', '31', '345', '88', '325', '96', '254', '108', '280', '347', '261', '251', '84', '25', '342', '72', '176', '299', '104', '284', '208', '122', '66', '334', '45', '159', '297', '129', '69', '54', '285', '27', '148', '109', '7', '344', '24', '101', '217', '98', '339', '39', '187', '127', '30', '103', '315', '231', '85', '55', '258', '87', '113', '3', '1', '341', '213', '36', '323', '309', '134', '135', '100', '50', '56', '232', '204'}\n",
      "\t#3 : {'44', '343', '115', '17', '137', '326', '144', '116', '19', '28', '41', '20', '310', '243', '337', '149', '140', '312', '162', '14', '226', '93', '151', '214', '32', '2', '167', '333', '111'}\n",
      "\t#4 : {'201', '259', '91', '110', '245', '264', '8', '193'}\n",
      "\t#5 : {'83', '84', '25', '31', '237', '51', '23'}\n",
      "\t#6 : {'68', '99', '227', '296', '225', '131', '175', '102', '278', '177', '263', '86', '143', '23', '46'}\n",
      "\t#7 : {'95', '6', '327', '319', '147', '219', '89'}\n",
      "\t#8 : {'262', '312', '220', '115'}\n",
      "\t#9 : {'5', '122', '235', '156'}\n"
     ]
    }
   ],
   "source": [
    "from networkx.algorithms.community import k_clique_communities as nx_k_clique_communities\n",
    "\n",
    "# Graph G\n",
    "G = nx.read_edgelist(\"communities.txt\")\n",
    "\n",
    "# our algorithm implementation\n",
    "user_comm = k_clique_communities(G,4)\n",
    "# networkx implementation for validation\n",
    "nx_comm = list(nx_k_clique_communities(G,4))\n",
    "\n",
    "# verify the correctness\n",
    "is_ok = True\n",
    "for s in user_comm:\n",
    "    if s not in nx_comm:\n",
    "        is_ok = False\n",
    "for s in nx_comm:\n",
    "    if s not in user_comm:\n",
    "        is_ok = False\n",
    "if not is_ok:\n",
    "    print(\"A difference exists.\")\n",
    "else:\n",
    "    print(\"Implementation is correct.\")\n",
    "\n",
    "print(\"Communities:\")\n",
    "c_idx = 0\n",
    "for c in user_comm:\n",
    "    c_idx += 1\n",
    "    print(\"\\t#%d : %s\" % (c_idx, c))"
   ]
  }
 ],
 "metadata": {
  "kernelspec": {
   "display_name": "Python [conda env:social_net]",
   "language": "python",
   "name": "conda-env-social_net-py"
  },
  "language_info": {
   "codemirror_mode": {
    "name": "ipython",
    "version": 3
   },
   "file_extension": ".py",
   "mimetype": "text/x-python",
   "name": "python",
   "nbconvert_exporter": "python",
   "pygments_lexer": "ipython3",
   "version": "3.6.5"
  }
 },
 "nbformat": 4,
 "nbformat_minor": 2
}
