{
 "cells": [
  {
   "cell_type": "code",
   "execution_count": 2,
   "metadata": {},
   "outputs": [
    {
     "name": "stdout",
     "output_type": "stream",
     "text": [
      "The autoreload extension is already loaded. To reload it, use:\n",
      "  %reload_ext autoreload\n"
     ]
    }
   ],
   "source": [
    "# reloading for modules\n",
    "%load_ext autoreload\n",
    "%autoreload 2"
   ]
  },
  {
   "cell_type": "code",
   "execution_count": 3,
   "metadata": {},
   "outputs": [],
   "source": [
    "# ignore some unwanted warnings\n",
    "import warnings\n",
    "warnings.filterwarnings('ignore')"
   ]
  },
  {
   "cell_type": "code",
   "execution_count": 5,
   "metadata": {},
   "outputs": [],
   "source": [
    "# import the needed modules\n",
    "import networkx as nx\n",
    "import numpy as np\n",
    "import matplotlib.pyplot as plt\n",
    "import random\n",
    "import sys"
   ]
  },
  {
   "cell_type": "code",
   "execution_count": 165,
   "metadata": {},
   "outputs": [],
   "source": [
    "def k_clique_communities(G, k=3):\n",
    "    # 1: find all maximal cliques\n",
    "    cliques = list(nx.find_cliques(G))\n",
    "    \n",
    "    print(cliques)\n",
    "\n",
    "    # 2: create clique overlap matrix\n",
    "    num_of_cliques = len(cliques)\n",
    "    matrix = np.zeros((num_of_cliques,num_of_cliques))\n",
    "    for i in range(0,num_of_cliques):\n",
    "        for j in range(0,num_of_cliques):\n",
    "            for v in cliques[i]:\n",
    "                if v in cliques[j]:\n",
    "                    matrix[i,j] += 1\n",
    "    \n",
    "    # 3: threshold matrix with k\n",
    "    for i in range(0,num_of_cliques):\n",
    "        for j in range(0,num_of_cliques):\n",
    "            if (matrix[i,j] < k-1) or (i == j and matrix[i,j] < k):\n",
    "                matrix[i,j] = 0\n",
    "            else:\n",
    "                matrix[i,j] = 1\n",
    "                \n",
    "    print(matrix)\n",
    "    \n",
    "    # 4: combine connected components\n",
    "    communities = list()\n",
    "    # TODO: Complete ---\n",
    "    pass\n",
    "    # ------------------\n",
    "    \n",
    "    \n",
    "    return communities"
   ]
  },
  {
   "cell_type": "code",
   "execution_count": 166,
   "metadata": {},
   "outputs": [
    {
     "name": "stdout",
     "output_type": "stream",
     "text": [
      "[[1, 0, 6], [1, 2], [3, 0, 6], [3, 4, 2], [3, 4, 5], [3, 6, 5]]\n",
      "[[1. 0. 1. 0. 0. 0.]\n",
      " [0. 0. 0. 0. 0. 0.]\n",
      " [1. 0. 1. 0. 0. 1.]\n",
      " [0. 0. 0. 1. 1. 0.]\n",
      " [0. 0. 0. 1. 1. 1.]\n",
      " [0. 0. 1. 0. 1. 1.]]\n",
      "0 [ 0 -1  0 -1 -1 -1]\n",
      "2 [ 0 -1  0 -1 -1  0]\n",
      "3 [ 0 -1  0  1  1  0]\n",
      "4 [ 0 -1  0  1  0  0]\n",
      "5 [ 0 -1  0  1  0  0]\n",
      "[{0, 1, 2, 3, 4, 5, 6}, {2, 3, 4, 5}]\n",
      "[frozenset({0, 1, 2, 3, 4, 5, 6})]\n"
     ]
    },
    {
     "data": {
      "image/png": "[encoded data removed]",
      "text/plain": [
       "<Figure size 432x288 with 1 Axes>"
      ]
     },
     "metadata": {},
     "output_type": "display_data"
    }
   ],
   "source": [
    "from networkx.algorithms.community import k_clique_communities as nx_k_clique_communities\n",
    "### Graph G\n",
    "#G = nx.read_edgelist(\"communities.txt\")\n",
    "#G = nx.gnm_random_graph(7,12)\n",
    "G=nx.Graph()\n",
    "\n",
    "G.add_edge(0, 1)\n",
    "G.add_edge(0, 6)\n",
    "G.add_edge(0, 3)\n",
    "G.add_edge(1, 2)\n",
    "G.add_edge(1, 6)\n",
    "G.add_edge(2, 3)\n",
    "G.add_edge(2, 4)\n",
    "G.add_edge(3, 4)\n",
    "G.add_edge(3, 5)\n",
    "G.add_edge(3, 6)\n",
    "G.add_edge(4, 5)\n",
    "G.add_edge(5, 6)\n",
    "\n",
    "pos = nx.spring_layout(G)\n",
    "nx.draw_networkx_edges(G, pos)\n",
    "nx.draw_networkx_nodes(G, pos)\n",
    "nx.draw_networkx_labels(G, pos, font_color='white')\n",
    "\n",
    "print(k_clique_communities(G,3))\n",
    "print(list(nx_k_clique_communities(G,3)))"
   ]
  },
  {
   "cell_type": "code",
   "execution_count": null,
   "metadata": {},
   "outputs": [],
   "source": []
  }
 ],
 "metadata": {
  "kernelspec": {
   "display_name": "Python [conda env:social_net]",
   "language": "python",
   "name": "conda-env-social_net-py"
  },
  "language_info": {
   "codemirror_mode": {
    "name": "ipython",
    "version": 3
   },
   "file_extension": ".py",
   "mimetype": "text/x-python",
   "name": "python",
   "nbconvert_exporter": "python",
   "pygments_lexer": "ipython3",
   "version": "3.6.5"
  }
 },
 "nbformat": 4,
 "nbformat_minor": 2
}
